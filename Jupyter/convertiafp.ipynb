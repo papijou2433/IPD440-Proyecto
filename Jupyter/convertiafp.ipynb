{
 "cells": [
  {
   "cell_type": "code",
   "execution_count": 9,
   "id": "46a1f9fe",
   "metadata": {},
   "outputs": [
    {
     "name": "stdout",
     "output_type": "stream",
     "text": [
      "0E AE EB C0 CD 1F 19 CC 0B\n"
     ]
    }
   ],
   "source": [
    "import numpy as np\n",
    "\n",
    "# Your input array\n",
    "# input_array = np.array(\n",
    "#     [\n",
    "#      [ [0.26775], [0.1905], [0.11325], [0.18825], [0.202], [0.21775], [0.241],[0.263  ]],\n",
    "#      [ [0.1795], [0.074], [0.167], [0.177], [0.17675], [0.1765], [0.1765], [0.168]],\n",
    "#      [ [0.04725], [0.1705], [0.17325], [0.17325], [0.173], [0.173], [0.1495], [0.05425]],\n",
    "#      [ [0.1335], [0.17175], [0.17075], [0.17025], [0.16975], [0.17025], [0.07425], [0.06175]],\n",
    "#      [[0.13875], [0.1775], [0.1745], [0.17175], [0.16925], [0.16175], [0.02275], [0.07025]],\n",
    "#      [ [0.19775], [0.18575], [0.18225], [0.179], [0.17575], [0.15475], [0.024], [0.15025]],\n",
    "#      [[0.20225], [0.19475], [0.1905], [0.187], [0.18325], [0.147], [0.15325], [0.202]],\n",
    "#      [[0.19975], [0.1995], [0.198], [0.19575], [0.19225], [0.19425], [0.199], [0.19875]],\n",
    "#      ]\n",
    "# )\n",
    "\n",
    "\n",
    "input_array=np.array(\n",
    "    [\n",
    "     [[ 0.1055], [-0.6441], [-0.1679]],       \n",
    "     [[-0.5026],[ -0.3969],  [0.2386]],\n",
    "     [[0.1918], [-0.4058],  [0.0865]]\n",
    " ])\n",
    "\n",
    "\n",
    "# Q1.7 conversion function\n",
    "\n",
    "def float_to_q1_7_hex(value):\n",
    "    scaled = int(round(value * 128))\n",
    "    scaled = max(-128, min(127, scaled))\n",
    "    if scaled < 0:\n",
    "        scaled = (1 << 8) + scaled\n",
    "    return f\"{scaled:02X}\"\n",
    "\n",
    "flat = input_array.flatten()\n",
    "hex_row = [float_to_q1_7_hex(val) for val in flat]\n",
    "\n",
    "# Print as a single line\n",
    "print(\" \".join(hex_row))"
   ]
  },
  {
   "cell_type": "code",
   "execution_count": null,
   "id": "80eeed10",
   "metadata": {},
   "outputs": [],
   "source": []
  }
 ],
 "metadata": {
  "kernelspec": {
   "display_name": "Python 3 (ipykernel)",
   "language": "python",
   "name": "python3"
  },
  "language_info": {
   "codemirror_mode": {
    "name": "ipython",
    "version": 3
   },
   "file_extension": ".py",
   "mimetype": "text/x-python",
   "name": "python",
   "nbconvert_exporter": "python",
   "pygments_lexer": "ipython3",
   "version": "3.10.12"
  }
 },
 "nbformat": 4,
 "nbformat_minor": 5
}
